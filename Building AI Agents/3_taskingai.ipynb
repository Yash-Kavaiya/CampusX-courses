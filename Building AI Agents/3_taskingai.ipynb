{
  "nbformat": 4,
  "nbformat_minor": 0,
  "metadata": {
    "colab": {
      "provenance": [],
      "gpuType": "T4"
    },
    "kernelspec": {
      "name": "python3",
      "display_name": "Python 3"
    },
    "language_info": {
      "name": "python"
    },
    "accelerator": "GPU"
  },
  "cells": [
    {
      "cell_type": "code",
      "execution_count": null,
      "metadata": {
        "colab": {
          "base_uri": "https://localhost:8080/"
        },
        "id": "j9yRVS9SWxx-",
        "outputId": "2cfbddcc-73fd-4f8c-bd19-0951f9c0fa44"
      },
      "outputs": [
        {
          "output_type": "stream",
          "name": "stdout",
          "text": [
            "Requirement already satisfied: taskingai in /usr/local/lib/python3.10/dist-packages (0.2.5)\n",
            "Requirement already satisfied: certifi>=14.05.14 in /usr/local/lib/python3.10/dist-packages (from taskingai) (2024.2.2)\n",
            "Requirement already satisfied: six>=1.10 in /usr/local/lib/python3.10/dist-packages (from taskingai) (1.16.0)\n",
            "Requirement already satisfied: python-dateutil>=2.5.3 in /usr/local/lib/python3.10/dist-packages (from taskingai) (2.8.2)\n",
            "Requirement already satisfied: setuptools>=21.0.0 in /usr/local/lib/python3.10/dist-packages (from taskingai) (67.7.2)\n",
            "Requirement already satisfied: httpx>=0.23.0 in /usr/local/lib/python3.10/dist-packages (from taskingai) (0.27.0)\n",
            "Requirement already satisfied: pydantic>=2.5.0 in /usr/local/lib/python3.10/dist-packages (from taskingai) (2.7.1)\n",
            "Requirement already satisfied: anyio in /usr/local/lib/python3.10/dist-packages (from httpx>=0.23.0->taskingai) (3.7.1)\n",
            "Requirement already satisfied: httpcore==1.* in /usr/local/lib/python3.10/dist-packages (from httpx>=0.23.0->taskingai) (1.0.5)\n",
            "Requirement already satisfied: idna in /usr/local/lib/python3.10/dist-packages (from httpx>=0.23.0->taskingai) (3.7)\n",
            "Requirement already satisfied: sniffio in /usr/local/lib/python3.10/dist-packages (from httpx>=0.23.0->taskingai) (1.3.1)\n",
            "Requirement already satisfied: h11<0.15,>=0.13 in /usr/local/lib/python3.10/dist-packages (from httpcore==1.*->httpx>=0.23.0->taskingai) (0.14.0)\n",
            "Requirement already satisfied: annotated-types>=0.4.0 in /usr/local/lib/python3.10/dist-packages (from pydantic>=2.5.0->taskingai) (0.7.0)\n",
            "Requirement already satisfied: pydantic-core==2.18.2 in /usr/local/lib/python3.10/dist-packages (from pydantic>=2.5.0->taskingai) (2.18.2)\n",
            "Requirement already satisfied: typing-extensions>=4.6.1 in /usr/local/lib/python3.10/dist-packages (from pydantic>=2.5.0->taskingai) (4.11.0)\n",
            "Requirement already satisfied: exceptiongroup in /usr/local/lib/python3.10/dist-packages (from anyio->httpx>=0.23.0->taskingai) (1.2.1)\n"
          ]
        }
      ],
      "source": [
        "!pip install taskingai"
      ]
    },
    {
      "cell_type": "code",
      "source": [
        "import taskingai\n",
        "import pprint as pp\n",
        "api_key=\"\""
      ],
      "metadata": {
        "id": "AbI_nJxNW95i"
      },
      "execution_count": null,
      "outputs": []
    },
    {
      "cell_type": "code",
      "source": [
        "taskingai.init(api_key)"
      ],
      "metadata": {
        "id": "eu0FLxPMajaV"
      },
      "execution_count": null,
      "outputs": []
    },
    {
      "cell_type": "code",
      "source": [
        "assistants=taskingai.assistant.list_assistants(limit=5,order='desc')\n",
        "print(assistants)"
      ],
      "metadata": {
        "colab": {
          "base_uri": "https://localhost:8080/"
        },
        "id": "MEpMxbgOazQT",
        "outputId": "41cf4ee5-3534-435f-9d9f-f72c4c93f85d"
      },
      "execution_count": null,
      "outputs": [
        {
          "output_type": "stream",
          "name": "stdout",
          "text": [
            "[Assistant(object='Assistant', assistant_id='X5lMXo300utcxw9Y1kfDDDpf', model_id='Tpj49Wqk', name='arxiv agent', description='list the papers according to user query', system_prompt_template=['list the papers according to user query'], memory=AssistantMemory(type=<AssistantMemoryType.NAIVE: 'naive'>, max_messages=20, max_tokens=2000), tools=[ToolRef(type=<ToolType.PLUGIN: 'plugin'>, id='arxiv_search/arxiv_search')], retrievals=[], retrieval_configs=RetrievalConfig(top_k=3, max_tokens=4096, score_threshold=None, method=<RetrievalMethod.USER_MESSAGE: 'user_message'>, function_description=None), metadata={}, updated_timestamp=1716887321532, created_timestamp=1716887321532)]\n"
          ]
        }
      ]
    },
    {
      "cell_type": "code",
      "source": [
        "arxiv_qa_assistant=assistants[0]\n",
        "new_chat=taskingai.assistant.create_chat(assistant_id=arxiv_qa_assistant.assistant_id)\n",
        "user_message=taskingai.assistant.create_message(assistant_id=arxiv_qa_assistant.assistant_id,chat_id=new_chat.chat_id,text='please help me find papers about RAG in 2024')"
      ],
      "metadata": {
        "id": "oaCK8ddlbHXV"
      },
      "execution_count": null,
      "outputs": []
    },
    {
      "cell_type": "code",
      "source": [
        "assistant_message = taskingai.assistant.generate_message(\n",
        "    assistant_id=arxiv_qa_assistant.assistant_id,\n",
        "    chat_id=new_chat.chat_id,\n",
        ")\n",
        "\n",
        "print(assistant_message)"
      ],
      "metadata": {
        "colab": {
          "base_uri": "https://localhost:8080/"
        },
        "id": "pFgh3B-JcZOT",
        "outputId": "10fc5c63-3bdb-4bc7-ecce-1c8fcc5f09c4"
      },
      "execution_count": null,
      "outputs": [
        {
          "output_type": "stream",
          "name": "stdout",
          "text": [
            "object='Message' message_id='Mah1TzRbNNRFpvfxd3GfVsSe' chat_id='SdELLpQni67AQo47SDTZSnF7' assistant_id='X5lMXo300utcxw9Y1kfDDDpf' role='assistant' content=MessageContent(text=\"Here are some papers about RAG in 2024:\\n\\n1. **Title:** MultiHop-RAG: Benchmarking Retrieval-Augmented Generation for Multi-Hop Queries\\n   **Authors:** Yixuan Tang, Yi Yang\\n   **Published:** January 27, 2024\\n   **Summary:** This paper introduces the MultiHop-RAG dataset designed for multi-hop queries, evaluating different embedding models and LLMs' capabilities in reasoning and answering multi-hop queries. [Read more](http://arxiv.org/abs/2401.15391v1)\\n\\n2. **Title:** Retrieval-Augmented Generation for AI-Generated Content: A Survey\\n   **Authors:** Penghao Zhao, Hailin Zhang, Qinhan Yu, Zhengren Wang, Yunteng Geng, Fangcheng Fu, Ling Yang, Wentao Zhang, Jie Jiang, Bin Cui\\n   **Published:** February 29, 2024\\n   **Summary:** This survey reviews the integration of RAG techniques into various AI-generated content scenarios, discussing foundational abstractions, enhancements, applications, benchmarks, limitations, and future research directions. [Read more](http://arxiv.org/abs/2402.19473v4)\\n\\n3. **Title:** Seven Failure Points When Engineering a Retrieval Augmented Generation System\\n   **Authors:** Scott Barnett, Stefanus Kurniawan, Srikanth Thudumu, Zach Brannelly, Mohamed Abdelrazek\\n   **Published:** January 11, 2024\\n   **Summary:** The paper presents 7 failure points of RAG systems from case studies in different domains, sharing lessons learned and suggesting potential research directions for software engineering communities. [Read more](http://arxiv.org/abs/2401.05856v1)\\n\\n4. **Title:** RAGGED: Towards Informed Design of Retrieval Augmented Generation Systems\\n   **Authors:** Jennifer Hsia, Afreen Shaikh, Zhiruo Wang, Graham Neubig\\n   **Published:** March 14, 2024\\n   **Summary:** Introducing the RAGGED framework to analyze and optimize RAG systems for DBQA tasks, studying retrievers and LMs to determine the optimal RAG configuration. [Read more](http://arxiv.org/abs/2403.09040v1)\\n\\n5. **Title:** Observations on Building RAG Systems for Technical Documents\\n   **Authors:** Sumit Soman, Sujoy Roychowdhury\\n   **Published:** March 31, 2024\\n   **Summary:** This paper reviews important factors affecting RAG for technical documents and conducts experiments to highlight best practices and challenges in building RAG systems. [Read more](http://arxiv.org/abs/2404.00657v1)\\n\\nYou can access the full papers by clicking on the provided links.\") metadata={} logs=[] updated_timestamp=1716908516838 created_timestamp=1716908516838\n"
          ]
        }
      ]
    }
  ]
}